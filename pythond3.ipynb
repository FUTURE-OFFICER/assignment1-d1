{
 "cells": [
  {
   "cell_type": "code",
   "execution_count": 1,
   "id": "b794749b-92d3-4b29-8a5b-238223d5829d",
   "metadata": {},
   "outputs": [],
   "source": [
    "d={}"
   ]
  },
  {
   "cell_type": "code",
   "execution_count": 2,
   "id": "d75ec430-3b2e-48b8-a9c8-706a0cad99a3",
   "metadata": {},
   "outputs": [
    {
     "data": {
      "text/plain": [
       "dict"
      ]
     },
     "execution_count": 2,
     "metadata": {},
     "output_type": "execute_result"
    }
   ],
   "source": [
    "type(d)"
   ]
  },
  {
   "cell_type": "code",
   "execution_count": 4,
   "id": "9fb3e7ea-d85f-4303-a166-1d8c403a3f9e",
   "metadata": {},
   "outputs": [],
   "source": [
    "d1={\"key\":\"ajay\"}"
   ]
  },
  {
   "cell_type": "code",
   "execution_count": 13,
   "id": "1d0a11b6-a732-4ad7-9fb7-469ac89d6c10",
   "metadata": {},
   "outputs": [
    {
     "data": {
      "text/plain": [
       "{'name': 'ajay', 'gmail': 'ajayy3903@', 'number': 6868798}"
      ]
     },
     "execution_count": 13,
     "metadata": {},
     "output_type": "execute_result"
    }
   ],
   "source": [
    "d2\n"
   ]
  },
  {
   "cell_type": "code",
   "execution_count": 8,
   "id": "101c2e72-8bf9-4282-84dd-affa6abb9f38",
   "metadata": {},
   "outputs": [],
   "source": [
    "d2={\"name\":\"ajay\",\"gmail\":\"ajayy3903@\",\"number\":6868798}"
   ]
  },
  {
   "cell_type": "code",
   "execution_count": 12,
   "id": "13b9849d-5759-436e-97c9-d283729e929a",
   "metadata": {},
   "outputs": [],
   "source": [
    "d3={234:\"ajay\",\"@\":\"yadav\",True:68969}"
   ]
  },
  {
   "cell_type": "code",
   "execution_count": 16,
   "id": "330311ea-52f1-4025-869d-7928f25d5368",
   "metadata": {},
   "outputs": [
    {
     "data": {
      "text/plain": [
       "'ajay'"
      ]
     },
     "execution_count": 16,
     "metadata": {},
     "output_type": "execute_result"
    }
   ],
   "source": [
    "d3.pop(234)"
   ]
  },
  {
   "cell_type": "code",
   "execution_count": 17,
   "id": "47ab250c-c154-410e-99cc-a1d87e54de1c",
   "metadata": {},
   "outputs": [
    {
     "data": {
      "text/plain": [
       "2"
      ]
     },
     "execution_count": 17,
     "metadata": {},
     "output_type": "execute_result"
    }
   ],
   "source": [
    "len(d3)"
   ]
  },
  {
   "cell_type": "code",
   "execution_count": 18,
   "id": "8953e208-b32c-4110-999d-4817edbfc01e",
   "metadata": {},
   "outputs": [
    {
     "data": {
      "text/plain": [
       "{'@': 'yadav', True: 68969}"
      ]
     },
     "execution_count": 18,
     "metadata": {},
     "output_type": "execute_result"
    }
   ],
   "source": [
    "d3"
   ]
  },
  {
   "cell_type": "code",
   "execution_count": 19,
   "id": "474fb189-75ef-4bba-9034-44b70827ca05",
   "metadata": {},
   "outputs": [
    {
     "data": {
      "text/plain": [
       "68969"
      ]
     },
     "execution_count": 19,
     "metadata": {},
     "output_type": "execute_result"
    }
   ],
   "source": [
    "d3[True]"
   ]
  },
  {
   "cell_type": "code",
   "execution_count": 20,
   "id": "245b0fc1-dc44-4ca1-aa0f-69e9cac42ad4",
   "metadata": {},
   "outputs": [
    {
     "data": {
      "text/plain": [
       "68969"
      ]
     },
     "execution_count": 20,
     "metadata": {},
     "output_type": "execute_result"
    }
   ],
   "source": [
    "d3[1]"
   ]
  },
  {
   "cell_type": "code",
   "execution_count": 21,
   "id": "8abe1ec7-bbef-40ae-b4b4-5f3480c29157",
   "metadata": {},
   "outputs": [
    {
     "data": {
      "text/plain": [
       "68969"
      ]
     },
     "execution_count": 21,
     "metadata": {},
     "output_type": "execute_result"
    }
   ],
   "source": [
    "d3[1]"
   ]
  },
  {
   "cell_type": "code",
   "execution_count": 22,
   "id": "e265202d-4b15-48ea-8f9b-32b28d968f89",
   "metadata": {},
   "outputs": [
    {
     "data": {
      "text/plain": [
       "{'@': 'yadav', True: 68969}"
      ]
     },
     "execution_count": 22,
     "metadata": {},
     "output_type": "execute_result"
    }
   ],
   "source": [
    "d3"
   ]
  },
  {
   "cell_type": "code",
   "execution_count": 24,
   "id": "56fe61c9-df73-4477-b158-c26db8f25a86",
   "metadata": {},
   "outputs": [],
   "source": [
    "d4={\"name\":\"ajay\",\"mail id\":\"ajayy3903@\",\"name\":\"ajayyadav \"}"
   ]
  },
  {
   "cell_type": "code",
   "execution_count": 25,
   "id": "acafeadc-1b3a-469c-be4d-700c38115f0e",
   "metadata": {},
   "outputs": [
    {
     "data": {
      "text/plain": [
       "{'name': 'ajayyadav ', 'mail id': 'ajayy3903@'}"
      ]
     },
     "execution_count": 25,
     "metadata": {},
     "output_type": "execute_result"
    }
   ],
   "source": [
    "d4"
   ]
  },
  {
   "cell_type": "code",
   "execution_count": 26,
   "id": "c80e2440-207f-4be4-96ca-e265ec47abd1",
   "metadata": {},
   "outputs": [
    {
     "data": {
      "text/plain": [
       "'ajayyadav '"
      ]
     },
     "execution_count": 26,
     "metadata": {},
     "output_type": "execute_result"
    }
   ],
   "source": [
    "d4[\"name\"]"
   ]
  },
  {
   "cell_type": "code",
   "execution_count": 27,
   "id": "527f7b15-c189-485e-85e5-7c0f16cc49e3",
   "metadata": {},
   "outputs": [
    {
     "data": {
      "text/plain": [
       "'ajayyadav '"
      ]
     },
     "execution_count": 27,
     "metadata": {},
     "output_type": "execute_result"
    }
   ],
   "source": [
    "d4.pop(\"name\")"
   ]
  },
  {
   "cell_type": "code",
   "execution_count": 28,
   "id": "02fde3d4-9048-4c96-98ea-d449814ee54e",
   "metadata": {},
   "outputs": [
    {
     "data": {
      "text/plain": [
       "{'mail id': 'ajayy3903@'}"
      ]
     },
     "execution_count": 28,
     "metadata": {},
     "output_type": "execute_result"
    }
   ],
   "source": [
    "d4"
   ]
  },
  {
   "cell_type": "code",
   "execution_count": 34,
   "id": "e6b5d52c-e9ae-48f2-825c-7c57fe075508",
   "metadata": {},
   "outputs": [],
   "source": [
    "d5={\"company\":\"pwskills\",\"course\":[\"web dev\",\"data science\",\"java\"]}"
   ]
  },
  {
   "cell_type": "code",
   "execution_count": 30,
   "id": "a14acb53-5915-4e66-9ba7-e83c776534da",
   "metadata": {},
   "outputs": [
    {
     "data": {
      "text/plain": [
       "{'company': 'pwskills', 'course': ['web dev', 'data science', 'java']}"
      ]
     },
     "execution_count": 30,
     "metadata": {},
     "output_type": "execute_result"
    }
   ],
   "source": [
    "d5"
   ]
  },
  {
   "cell_type": "code",
   "execution_count": 31,
   "id": "ced37293-7ada-44dc-93d5-ad29762b28b3",
   "metadata": {},
   "outputs": [
    {
     "data": {
      "text/plain": [
       "['web dev', 'data science', 'java']"
      ]
     },
     "execution_count": 31,
     "metadata": {},
     "output_type": "execute_result"
    }
   ],
   "source": [
    "d5.pop(\"course\")"
   ]
  },
  {
   "cell_type": "code",
   "execution_count": 32,
   "id": "e1473478-ae9a-4346-913f-6982ef93b926",
   "metadata": {},
   "outputs": [
    {
     "data": {
      "text/plain": [
       "{'company': 'pwskills'}"
      ]
     },
     "execution_count": 32,
     "metadata": {},
     "output_type": "execute_result"
    }
   ],
   "source": [
    "d5"
   ]
  },
  {
   "cell_type": "code",
   "execution_count": 33,
   "id": "dc6afd76-1110-4c79-8434-4175e1c0de92",
   "metadata": {},
   "outputs": [
    {
     "data": {
      "text/plain": [
       "{'company': 'pwskills'}"
      ]
     },
     "execution_count": 33,
     "metadata": {},
     "output_type": "execute_result"
    }
   ],
   "source": [
    "d5\n"
   ]
  },
  {
   "cell_type": "code",
   "execution_count": 35,
   "id": "36a33e03-368c-4923-b744-763c7f1f6bc5",
   "metadata": {},
   "outputs": [
    {
     "data": {
      "text/plain": [
       "{'company': 'pwskills', 'course': ['web dev', 'data science', 'java']}"
      ]
     },
     "execution_count": 35,
     "metadata": {},
     "output_type": "execute_result"
    }
   ],
   "source": [
    "d5"
   ]
  },
  {
   "cell_type": "code",
   "execution_count": 41,
   "id": "82cd60e0-aff6-42d0-8a9c-5f32675d8127",
   "metadata": {},
   "outputs": [
    {
     "ename": "SyntaxError",
     "evalue": "invalid syntax (2834168695.py, line 1)",
     "output_type": "error",
     "traceback": [
      "\u001b[0;36m  Cell \u001b[0;32mIn[41], line 1\u001b[0;36m\u001b[0m\n\u001b[0;31m    d5.[\"course\"][2]\u001b[0m\n\u001b[0m       ^\u001b[0m\n\u001b[0;31mSyntaxError\u001b[0m\u001b[0;31m:\u001b[0m invalid syntax\n"
     ]
    }
   ],
   "source": [
    "d5.[\"course\"][2]"
   ]
  },
  {
   "cell_type": "code",
   "execution_count": 42,
   "id": "7d83b15b-1900-4932-8c7d-e9594041bad7",
   "metadata": {},
   "outputs": [
    {
     "data": {
      "text/plain": [
       "{'company': 'pwskills', 'course': ['web dev', 'data science', 'java']}"
      ]
     },
     "execution_count": 42,
     "metadata": {},
     "output_type": "execute_result"
    }
   ],
   "source": [
    "d5\n"
   ]
  },
  {
   "cell_type": "code",
   "execution_count": 30,
   "id": "1b60767c-81ad-429f-95a1-c183814afa6b",
   "metadata": {},
   "outputs": [],
   "source": [
    "d6={\"number\":[2,3,4,55,],\"assigment\":(1,2,3,4,5,66),\"launch date\":{28,27,29},\"class timing\":{\"webdev\":8,\"data science\":9,\"java\":3}}"
   ]
  },
  {
   "cell_type": "code",
   "execution_count": 48,
   "id": "ebed8ecd-14f6-4094-86f6-1eec586c185c",
   "metadata": {},
   "outputs": [
    {
     "data": {
      "text/plain": [
       "{'number': [2, 3, 4, 55],\n",
       " 'assigment': (1, 2, 3, 4, 5, 66),\n",
       " 'launch date': {27, 28, 29},\n",
       " 'class timing': {'webdev': 8, 'data science': 9, 'java': 3}}"
      ]
     },
     "execution_count": 48,
     "metadata": {},
     "output_type": "execute_result"
    }
   ],
   "source": [
    "d6"
   ]
  },
  {
   "cell_type": "code",
   "execution_count": 49,
   "id": "ba370259-a751-4082-b717-a114f2d7e8ce",
   "metadata": {},
   "outputs": [
    {
     "data": {
      "text/plain": [
       "dict"
      ]
     },
     "execution_count": 49,
     "metadata": {},
     "output_type": "execute_result"
    }
   ],
   "source": [
    "type(d6)"
   ]
  },
  {
   "cell_type": "code",
   "execution_count": 50,
   "id": "abb14b34-94db-4b42-9bd1-774f5b9fc4ad",
   "metadata": {},
   "outputs": [
    {
     "data": {
      "text/plain": [
       "(1, 2, 3, 4, 5, 66)"
      ]
     },
     "execution_count": 50,
     "metadata": {},
     "output_type": "execute_result"
    }
   ],
   "source": [
    "d6[\"assigment\"]"
   ]
  },
  {
   "cell_type": "code",
   "execution_count": 51,
   "id": "81dfdb85-172c-4830-9bdb-1c0da14801da",
   "metadata": {},
   "outputs": [],
   "source": [
    "d6"
   ]
  },
  {
   "cell_type": "code",
   "execution_count": 51,
   "id": "9a8e4918-9e3c-4bc6-9fa0-001bc31f9bf7",
   "metadata": {},
   "outputs": [
    {
     "data": {
      "text/plain": [
       "{'number': [2, 3, 4, 55],\n",
       " 'assigment': (1, 2, 3, 4, 5, 66),\n",
       " 'launch date': {27, 28, 29},\n",
       " 'class timing': {'webdev': 8, 'data science': 9, 'java': 3}}"
      ]
     },
     "execution_count": 51,
     "metadata": {},
     "output_type": "execute_result"
    }
   ],
   "source": []
  },
  {
   "cell_type": "code",
   "execution_count": 53,
   "id": "1b6631c6-f4c9-43f0-b847-c7ba3e92a1a8",
   "metadata": {},
   "outputs": [
    {
     "data": {
      "text/plain": [
       "3"
      ]
     },
     "execution_count": 53,
     "metadata": {},
     "output_type": "execute_result"
    }
   ],
   "source": [
    "d6[\"class timing\"][\"java\"]"
   ]
  },
  {
   "cell_type": "code",
   "execution_count": 5,
   "id": "f010ced9-6ea8-4463-b3c8-246775643e45",
   "metadata": {},
   "outputs": [],
   "source": [
    "d6[\"mentor\"]=[\"ajay\",\"krish\",\"sudh\"]"
   ]
  },
  {
   "cell_type": "code",
   "execution_count": 6,
   "id": "a42fd4f4-59bb-4bbd-adca-d5ad11358cfb",
   "metadata": {},
   "outputs": [
    {
     "data": {
      "text/plain": [
       "{'number': [2, 3, 4, 55],\n",
       " 'assigment': (1, 2, 3, 4, 5, 66),\n",
       " 'launch date': {27, 28, 29},\n",
       " 'class timing': {'webdev': 8, 'data science': 9, 'java': 3},\n",
       " 'mentor': ['ajay', 'krish', 'sudh']}"
      ]
     },
     "execution_count": 6,
     "metadata": {},
     "output_type": "execute_result"
    }
   ],
   "source": [
    "d6"
   ]
  },
  {
   "cell_type": "code",
   "execution_count": 7,
   "id": "edcade20-b86d-4cbb-92d3-54c2c48aed66",
   "metadata": {},
   "outputs": [],
   "source": [
    "del d6[\"number\"]"
   ]
  },
  {
   "cell_type": "code",
   "execution_count": 8,
   "id": "06ddac37-0aeb-496e-bd4c-e294c8bc1a8c",
   "metadata": {},
   "outputs": [
    {
     "data": {
      "text/plain": [
       "{'assigment': (1, 2, 3, 4, 5, 66),\n",
       " 'launch date': {27, 28, 29},\n",
       " 'class timing': {'webdev': 8, 'data science': 9, 'java': 3},\n",
       " 'mentor': ['ajay', 'krish', 'sudh']}"
      ]
     },
     "execution_count": 8,
     "metadata": {},
     "output_type": "execute_result"
    }
   ],
   "source": [
    "d6"
   ]
  },
  {
   "cell_type": "code",
   "execution_count": 11,
   "id": "abebc19a-b59b-4bfb-b48a-efd5399b90bf",
   "metadata": {},
   "outputs": [
    {
     "data": {
      "text/plain": [
       "['assigment', 'launch date', 'class timing', 'mentor']"
      ]
     },
     "execution_count": 11,
     "metadata": {},
     "output_type": "execute_result"
    }
   ],
   "source": [
    "list( d6.keys())\n"
   ]
  },
  {
   "cell_type": "code",
   "execution_count": 14,
   "id": "3bf6a209-6838-4c1c-9240-001ff8fc10e2",
   "metadata": {},
   "outputs": [
    {
     "data": {
      "text/plain": [
       "list[dict_values([(1, 2, 3, 4, 5, 66), {27, 28, 29}, {'webdev': 8, 'data science': 9, 'java': 3}, ['ajay', 'krish', 'sudh']])]"
      ]
     },
     "execution_count": 14,
     "metadata": {},
     "output_type": "execute_result"
    }
   ],
   "source": [
    "list [d6.values()]"
   ]
  },
  {
   "cell_type": "code",
   "execution_count": 15,
   "id": "b809fce4-0129-4d0e-a74b-68c55c8cc4d3",
   "metadata": {},
   "outputs": [
    {
     "data": {
      "text/plain": [
       "{'assigment': (1, 2, 3, 4, 5, 66),\n",
       " 'launch date': {27, 28, 29},\n",
       " 'class timing': {'webdev': 8, 'data science': 9, 'java': 3},\n",
       " 'mentor': ['ajay', 'krish', 'sudh']}"
      ]
     },
     "execution_count": 15,
     "metadata": {},
     "output_type": "execute_result"
    }
   ],
   "source": [
    "d6"
   ]
  },
  {
   "cell_type": "code",
   "execution_count": 16,
   "id": "3315c918-8d89-468d-976f-9734991b491b",
   "metadata": {},
   "outputs": [
    {
     "data": {
      "text/plain": [
       "dict_items([('assigment', (1, 2, 3, 4, 5, 66)), ('launch date', {27, 28, 29}), ('class timing', {'webdev': 8, 'data science': 9, 'java': 3}), ('mentor', ['ajay', 'krish', 'sudh'])])"
      ]
     },
     "execution_count": 16,
     "metadata": {},
     "output_type": "execute_result"
    }
   ],
   "source": [
    "d6.items()"
   ]
  },
  {
   "cell_type": "code",
   "execution_count": 18,
   "id": "cfa26edd-55a2-4e40-bb14-cd4f3bf4a998",
   "metadata": {},
   "outputs": [
    {
     "ename": "AttributeError",
     "evalue": "'dict' object has no attribute 'item'",
     "output_type": "error",
     "traceback": [
      "\u001b[0;31m---------------------------------------------------------------------------\u001b[0m",
      "\u001b[0;31mAttributeError\u001b[0m                            Traceback (most recent call last)",
      "Cell \u001b[0;32mIn[18], line 1\u001b[0m\n\u001b[0;32m----> 1\u001b[0m \u001b[38;5;28mlist\u001b[39m (\u001b[43md6\u001b[49m\u001b[38;5;241;43m.\u001b[39;49m\u001b[43mitem\u001b[49m())\n",
      "\u001b[0;31mAttributeError\u001b[0m: 'dict' object has no attribute 'item'"
     ]
    }
   ],
   "source": [
    "list (d6.item())"
   ]
  },
  {
   "cell_type": "code",
   "execution_count": 19,
   "id": "166ad8be-9dc3-4bac-b9e1-418d262831c9",
   "metadata": {},
   "outputs": [
    {
     "data": {
      "text/plain": [
       "{'assigment': (1, 2, 3, 4, 5, 66),\n",
       " 'launch date': {27, 28, 29},\n",
       " 'class timing': {'webdev': 8, 'data science': 9, 'java': 3},\n",
       " 'mentor': ['ajay', 'krish', 'sudh']}"
      ]
     },
     "execution_count": 19,
     "metadata": {},
     "output_type": "execute_result"
    }
   ],
   "source": [
    "d6"
   ]
  },
  {
   "cell_type": "code",
   "execution_count": 22,
   "id": "daaec8c7-809a-480e-8133-7f618e181300",
   "metadata": {},
   "outputs": [
    {
     "data": {
      "text/plain": [
       "[('assigment', (1, 2, 3, 4, 5, 66)),\n",
       " ('launch date', {27, 28, 29}),\n",
       " ('class timing', {'webdev': 8, 'data science': 9, 'java': 3}),\n",
       " ('mentor', ['ajay', 'krish', 'sudh'])]"
      ]
     },
     "execution_count": 22,
     "metadata": {},
     "output_type": "execute_result"
    }
   ],
   "source": [
    "list(d6.items())"
   ]
  },
  {
   "cell_type": "code",
   "execution_count": 23,
   "id": "dde9223c-209c-4549-8b8b-4cea73218aea",
   "metadata": {},
   "outputs": [],
   "source": [
    "d6.update()"
   ]
  },
  {
   "cell_type": "code",
   "execution_count": 24,
   "id": "4644ec4b-b434-4ba7-9af3-2b183d61d7db",
   "metadata": {},
   "outputs": [
    {
     "data": {
      "text/plain": [
       "{'assigment': (1, 2, 3, 4, 5, 66),\n",
       " 'launch date': {27, 28, 29},\n",
       " 'class timing': {'webdev': 8, 'data science': 9, 'java': 3},\n",
       " 'mentor': ['ajay', 'krish', 'sudh']}"
      ]
     },
     "execution_count": 24,
     "metadata": {},
     "output_type": "execute_result"
    }
   ],
   "source": [
    "d6"
   ]
  },
  {
   "cell_type": "code",
   "execution_count": 25,
   "id": "5bf99e8f-a515-4215-9494-bde89ea5b9ef",
   "metadata": {},
   "outputs": [
    {
     "data": {
      "text/plain": [
       "['ajay', 'krish', 'sudh']"
      ]
     },
     "execution_count": 25,
     "metadata": {},
     "output_type": "execute_result"
    }
   ],
   "source": [
    "d6.pop(\"mentor\")"
   ]
  },
  {
   "cell_type": "code",
   "execution_count": 26,
   "id": "6780d057-a273-42e9-a76a-cf3b1a35d0cd",
   "metadata": {},
   "outputs": [
    {
     "data": {
      "text/plain": [
       "{'assigment': (1, 2, 3, 4, 5, 66),\n",
       " 'launch date': {27, 28, 29},\n",
       " 'class timing': {'webdev': 8, 'data science': 9, 'java': 3}}"
      ]
     },
     "execution_count": 26,
     "metadata": {},
     "output_type": "execute_result"
    }
   ],
   "source": [
    "d6"
   ]
  },
  {
   "cell_type": "code",
   "execution_count": null,
   "id": "9d842681-e978-49c7-8450-0bd152b8f9cd",
   "metadata": {},
   "outputs": [],
   "source": [
    "d6.clear()"
   ]
  },
  {
   "cell_type": "code",
   "execution_count": 29,
   "id": "9e364bd6-3192-432d-8bd6-0e2346405cf4",
   "metadata": {},
   "outputs": [
    {
     "data": {
      "text/plain": [
       "{}"
      ]
     },
     "execution_count": 29,
     "metadata": {},
     "output_type": "execute_result"
    }
   ],
   "source": [
    "d6"
   ]
  },
  {
   "cell_type": "code",
   "execution_count": null,
   "id": "8f9f17ef-761c-43f0-b47e-518878758100",
   "metadata": {},
   "outputs": [],
   "source": [
    "d6"
   ]
  },
  {
   "cell_type": "code",
   "execution_count": 1,
   "id": "f929a2d1-44ff-407b-bc03-c693f7a4ca7a",
   "metadata": {},
   "outputs": [
    {
     "ename": "NameError",
     "evalue": "name 'd6' is not defined",
     "output_type": "error",
     "traceback": [
      "\u001b[0;31m---------------------------------------------------------------------------\u001b[0m",
      "\u001b[0;31mNameError\u001b[0m                                 Traceback (most recent call last)",
      "Cell \u001b[0;32mIn[1], line 1\u001b[0m\n\u001b[0;32m----> 1\u001b[0m \u001b[43md6\u001b[49m\u001b[38;5;241m.\u001b[39mpop(jvgjhvj)\n",
      "\u001b[0;31mNameError\u001b[0m: name 'd6' is not defined"
     ]
    }
   ],
   "source": [
    "d6.pop(jvgjhvj)"
   ]
  },
  {
   "cell_type": "code",
   "execution_count": 2,
   "id": "feb689da-e63d-4747-857f-25482054263b",
   "metadata": {},
   "outputs": [
    {
     "name": "stdin",
     "output_type": "stream",
     "text": [
      "enter your marks 55\n"
     ]
    },
    {
     "name": "stdout",
     "output_type": "stream",
     "text": [
      "you will be a part of A2 batch\n"
     ]
    }
   ],
   "source": [
    "\n",
    "\n",
    "marks = int(input(\"enter your marks\"))\n",
    "if marks >= 80:\n",
    "    print(\"you will be a part of A0 batch\")\n",
    "elif marks  >= 60 and marks<80:\n",
    "    print(\"you will be a part of A1 batch\")\n",
    "elif marks >= 40 and marks < 60:\n",
    "    print(\"you will be a part of A2 batch\")\n",
    "else :\n",
    "    print(\"you will be a part of A3 batch\")"
   ]
  },
  {
   "cell_type": "code",
   "execution_count": 3,
   "id": "4b838be2-94c6-464c-98ee-78f45e109c34",
   "metadata": {},
   "outputs": [
    {
     "name": "stdin",
     "output_type": "stream",
     "text": [
      "enter your marks 45\n"
     ]
    }
   ],
   "source": [
    "marks = int(input(\"enter your marks\"))"
   ]
  },
  {
   "cell_type": "code",
   "execution_count": 3,
   "id": "f2fdbcb2-404c-4da0-87c3-98dda33e094e",
   "metadata": {},
   "outputs": [
    {
     "data": {
      "text/plain": [
       "'45'"
      ]
     },
     "execution_count": 3,
     "metadata": {},
     "output_type": "execute_result"
    }
   ],
   "source": [
    "marks"
   ]
  },
  {
   "cell_type": "code",
   "execution_count": 4,
   "id": "49d22eb7-d670-4dd7-b02a-a64a775623a7",
   "metadata": {},
   "outputs": [
    {
     "data": {
      "text/plain": [
       "str"
      ]
     },
     "execution_count": 4,
     "metadata": {},
     "output_type": "execute_result"
    }
   ],
   "source": [
    "\n",
    "type(\"marks\")"
   ]
  },
  {
   "cell_type": "code",
   "execution_count": 8,
   "id": "4af4b961-9747-4f10-9b07-3360b2638d5b",
   "metadata": {},
   "outputs": [
    {
     "name": "stdin",
     "output_type": "stream",
     "text": [
      "enter price 500\n"
     ]
    },
    {
     "name": "stdout",
     "output_type": "stream",
     "text": [
      "i will purchase\n"
     ]
    }
   ],
   "source": [
    "price= int(input(\"enter price\"))\n",
    "if price >1000:\n",
    "    print(\"i will not purchase\")\n",
    "else:\n",
    "    print(\"i will purchase\")\n"
   ]
  },
  {
   "cell_type": "code",
   "execution_count": 3,
   "id": "aedb43a3-8180-4a95-afc4-def8b82211ec",
   "metadata": {},
   "outputs": [
    {
     "name": "stdin",
     "output_type": "stream",
     "text": [
      "enter price 10\n"
     ]
    },
    {
     "name": "stdout",
     "output_type": "stream",
     "text": [
      "not interstes\n"
     ]
    }
   ],
   "source": [
    "price= int(input(\"enter price\"))\n",
    "if price >1000:\n",
    "\n",
    "    print(\"i will not purchase\")\n",
    "    if price>5000:\n",
    "        print(\"this is too much\")\n",
    "    elif price< 2000:\n",
    "    \n",
    "        print(\"its ok\")\n",
    "    elif price<1000:\n",
    "        print(\"no need\")\n",
    "else:\n",
    "    print(\"not interstes\")"
   ]
  },
  {
   "cell_type": "code",
   "execution_count": 4,
   "id": "8e3fef4f-dc93-4acc-9e0c-0130c4694a84",
   "metadata": {},
   "outputs": [],
   "source": [
    "a=[1,2,3,4,5,6,7,8,9]"
   ]
  },
  {
   "cell_type": "code",
   "execution_count": 4,
   "id": "ca9a3bae-a6ff-4644-aa1a-1a480bc673c5",
   "metadata": {},
   "outputs": [],
   "source": [
    " "
   ]
  },
  {
   "cell_type": "code",
   "execution_count": 7,
   "id": "6628a511-01c8-4892-ae4a-4f3f8666dbdc",
   "metadata": {},
   "outputs": [
    {
     "data": {
      "text/plain": [
       "2"
      ]
     },
     "execution_count": 7,
     "metadata": {},
     "output_type": "execute_result"
    }
   ],
   "source": [
    "a[0]+1"
   ]
  },
  {
   "cell_type": "code",
   "execution_count": 8,
   "id": "9700b5de-6ac5-4ede-898b-491ea52c05d0",
   "metadata": {},
   "outputs": [],
   "source": [
    "a1=[]"
   ]
  },
  {
   "cell_type": "code",
   "execution_count": null,
   "id": "5441ca4a-7375-4b4a-910a-19e11dd29fca",
   "metadata": {},
   "outputs": [],
   "source": []
  },
  {
   "cell_type": "code",
   "execution_count": 11,
   "id": "f419ec1b-a544-4f64-ac8d-92d5f42c1f98",
   "metadata": {},
   "outputs": [],
   "source": [
    "a1.append(a[0]+1)"
   ]
  },
  {
   "cell_type": "code",
   "execution_count": 12,
   "id": "170352ae-c4c6-4a33-b9fd-fa4d56c51bdb",
   "metadata": {},
   "outputs": [
    {
     "data": {
      "text/plain": [
       "[2]"
      ]
     },
     "execution_count": 12,
     "metadata": {},
     "output_type": "execute_result"
    }
   ],
   "source": [
    " a1"
   ]
  },
  {
   "cell_type": "code",
   "execution_count": 13,
   "id": "5e689743-9954-4e1d-a6fd-a3dd1e4acf4a",
   "metadata": {},
   "outputs": [
    {
     "data": {
      "text/plain": [
       "[1, 2, 3, 4, 5, 6, 7, 8, 9]"
      ]
     },
     "execution_count": 13,
     "metadata": {},
     "output_type": "execute_result"
    }
   ],
   "source": [
    "a "
   ]
  },
  {
   "cell_type": "code",
   "execution_count": 14,
   "id": "02b7c541-3603-44f3-aa62-c72ba32eba62",
   "metadata": {},
   "outputs": [
    {
     "ename": "SyntaxError",
     "evalue": "invalid syntax (62411553.py, line 1)",
     "output_type": "error",
     "traceback": [
      "\u001b[0;36m  Cell \u001b[0;32mIn[14], line 1\u001b[0;36m\u001b[0m\n\u001b[0;31m    a=\u001b[0m\n\u001b[0m      ^\u001b[0m\n\u001b[0;31mSyntaxError\u001b[0m\u001b[0;31m:\u001b[0m invalid syntax\n"
     ]
    }
   ],
   "source": []
  },
  {
   "cell_type": "code",
   "execution_count": 15,
   "id": "0de95754-7f5a-4f7e-9025-c226402eb340",
   "metadata": {},
   "outputs": [],
   "source": [
    "a=[1,2,3,4,5,6,7,8]"
   ]
  },
  {
   "cell_type": "code",
   "execution_count": 29,
   "id": "3503e7f1-e20e-454a-8cb2-e44fb417dc30",
   "metadata": {},
   "outputs": [
    {
     "name": "stdout",
     "output_type": "stream",
     "text": [
      "2\n",
      "3\n",
      "4\n",
      "5\n",
      "6\n",
      "7\n",
      "8\n",
      "9\n"
     ]
    }
   ],
   "source": [
    "a1=[]\n",
    "for i in a:\n",
    "    print(i+1)\n",
    "    a1.append(i+1)"
   ]
  },
  {
   "cell_type": "code",
   "execution_count": 30,
   "id": "5569dea6-4d2e-46e8-80ae-cf8dd0392a10",
   "metadata": {},
   "outputs": [
    {
     "data": {
      "text/plain": [
       "[1, 2, 3, 4, 5, 6, 7, 8]"
      ]
     },
     "execution_count": 30,
     "metadata": {},
     "output_type": "execute_result"
    }
   ],
   "source": [
    "a"
   ]
  },
  {
   "cell_type": "code",
   "execution_count": 31,
   "id": "51a42d1f-c887-47dc-abac-6e786e4daabc",
   "metadata": {},
   "outputs": [
    {
     "data": {
      "text/plain": [
       "[2, 3, 4, 5, 6, 7, 8, 9]"
      ]
     },
     "execution_count": 31,
     "metadata": {},
     "output_type": "execute_result"
    }
   ],
   "source": [
    "a1"
   ]
  },
  {
   "cell_type": "code",
   "execution_count": 33,
   "id": "21de1f02-1c8a-474f-9dbf-faa62aa4800e",
   "metadata": {},
   "outputs": [],
   "source": [
    "a=[\"ajay\",\"king\",\"hero\"]"
   ]
  },
  {
   "cell_type": "code",
   "execution_count": 36,
   "id": "998fc70a-e1d8-48b8-a8de-bfabbc68f13e",
   "metadata": {},
   "outputs": [
    {
     "name": "stdout",
     "output_type": "stream",
     "text": [
      "ajay\n",
      "king\n",
      "hero\n"
     ]
    }
   ],
   "source": [
    "a1=[]\n",
    "for i in a:\n",
    "    print(i)\n",
    "    a1.append(i.upper())"
   ]
  },
  {
   "cell_type": "code",
   "execution_count": 37,
   "id": "3b236dcf-bf1f-4b3b-85b1-6e94b17fffb2",
   "metadata": {},
   "outputs": [
    {
     "data": {
      "text/plain": [
       "['AJAY', 'KING', 'HERO']"
      ]
     },
     "execution_count": 37,
     "metadata": {},
     "output_type": "execute_result"
    }
   ],
   "source": [
    "a1"
   ]
  },
  {
   "cell_type": "code",
   "execution_count": 38,
   "id": "cc1e2074-b67c-4d04-af52-0c115116626c",
   "metadata": {},
   "outputs": [],
   "source": [
    "a=[1,2,3,4,5,6,7,8,\"ajay\",3.33,\"abc\"]"
   ]
  },
  {
   "cell_type": "code",
   "execution_count": 42,
   "id": "85cf8a5e-4500-4a93-8186-98033dcb1e9d",
   "metadata": {},
   "outputs": [],
   "source": [
    "a1=[]\n",
    "a2=[]\n",
    "for i in a:\n",
    "    if type(i) == int or type(i)== float :\n",
    "        a1.append(i)\n",
    "    else:\n",
    "        a2.append(i)\n",
    "    "
   ]
  },
  {
   "cell_type": "code",
   "execution_count": 43,
   "id": "4ed89089-152a-48da-bede-b5efc6dd921e",
   "metadata": {},
   "outputs": [
    {
     "data": {
      "text/plain": [
       "[1, 2, 3, 4, 5, 6, 7, 8, 3.33]"
      ]
     },
     "execution_count": 43,
     "metadata": {},
     "output_type": "execute_result"
    }
   ],
   "source": [
    "a1"
   ]
  },
  {
   "cell_type": "code",
   "execution_count": 44,
   "id": "99c0fc02-23e8-439b-8186-b5a27a0971f3",
   "metadata": {},
   "outputs": [
    {
     "data": {
      "text/plain": [
       "['ajay', 'abc']"
      ]
     },
     "execution_count": 44,
     "metadata": {},
     "output_type": "execute_result"
    }
   ],
   "source": [
    "a2"
   ]
  },
  {
   "cell_type": "code",
   "execution_count": null,
   "id": "f2be22b1-8043-456e-b343-06e8f1bbad19",
   "metadata": {},
   "outputs": [],
   "source": []
  }
 ],
 "metadata": {
  "kernelspec": {
   "display_name": "Python 3 (ipykernel)",
   "language": "python",
   "name": "python3"
  },
  "language_info": {
   "codemirror_mode": {
    "name": "ipython",
    "version": 3
   },
   "file_extension": ".py",
   "mimetype": "text/x-python",
   "name": "python",
   "nbconvert_exporter": "python",
   "pygments_lexer": "ipython3",
   "version": "3.10.8"
  }
 },
 "nbformat": 4,
 "nbformat_minor": 5
}
